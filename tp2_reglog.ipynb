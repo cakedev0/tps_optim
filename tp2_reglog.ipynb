{
 "cells": [
  {
   "cell_type": "markdown",
   "metadata": {},
   "source": [
    "Imports et Utils :\n",
    "==="
   ]
  },
  {
   "cell_type": "code",
   "execution_count": 1,
   "metadata": {
    "collapsed": true
   },
   "outputs": [],
   "source": [
    "import numpy as np\n",
    "import math\n",
    "from scipy.optimize import check_grad\n",
    "from numpy.linalg import inv\n",
    "from numpy.linalg import norm\n",
    "import matplotlib.pyplot as plt\n",
    "from sklearn.model_selection import train_test_split\n",
    "from sklearn import linear_model\n",
    "%matplotlib inline\n",
    "\n",
    "def load_diabetic_retinopathy(filename, minidata=False):\n",
    "    \"\"\"\n",
    "    Cette fonction lit le fichier filename, par exemple\n",
    "    filename = 'diabeticRetinopathy.csv'\n",
    "    Elle retourne \n",
    "    X : une matrice de caracteristiques\n",
    "    y : un vecteur des classes tel que si y[i] = 1, la tumeur est maligne\n",
    "        et si y[i] = -1, la tumeur est benigne\n",
    "\n",
    "    Pour plus d'infos sur la base de donnees,\n",
    "    http://archive.ics.uci.edu/ml/datasets/Diabetic+Retinopathy+Debrecen+Data+Set\n",
    "    \"\"\"\n",
    "\n",
    "    data = np.loadtxt(filename, delimiter=',')\n",
    "\n",
    "    y = data[:, -1] * 2 - 1\n",
    "    X = data[:, :-1]\n",
    "\n",
    "    # Standardisation de la matrice\n",
    "    X = X - np.mean(X, axis=0)\n",
    "    X = X / np.std(X, axis=0)\n",
    "\n",
    "    return X, y"
   ]
  },
  {
   "cell_type": "markdown",
   "metadata": {},
   "source": [
    "Remarques :\n",
    "===\n",
    "\n",
    "Ce notebook est écrit en **python3** (et n'est pas compatible python 2 à priori)\n",
    "\n",
    "On utilse l'opérateur `@` qui équivaut à .dot() : `A@B` équivaut à `A.dot(B)`\n",
    "\n",
    "Qestion 1.1\n",
    "===\n",
    "\n",
    "On note $t_i = y_i(x_i^{\\mathsf T}\\omega + \\omega_0) $\n",
    "\n",
    "On a :\n",
    "\n",
    "$\\frac{\\partial}{\\partial \\omega_0} log(1 + exp(-t_i)) = \\frac{-y_i}{1 + exp(t_i)} $\n",
    "\n",
    "Pour $j \\geq 1$, on a $\\frac{\\partial}{\\partial \\omega_j} log(1 + exp(-t_i)) = \\frac{-y_i {x_i}_j }{1 + exp(t_i)} $\n",
    "\n",
    "Le gradient est donc :\n",
    "$$ \\nabla f_1(\\omega_0, \\omega) = \\left(\\sum _{i=1}^{n} \\frac{-y_i}{1 + exp(t_i)},\\sum _{i=1}^{n} \\frac{-y_i x_i }{1 + exp(t_i)} + \\rho \\omega \\right)$$\n",
    "\n",
    "On a : \n",
    "\n",
    "$\\frac{\\partial^2 f}{\\partial \\omega_{0}^2} = \\frac{1}{n}\\sum_{i=1}^{n}\\frac{y_{i}exp(y_{i}(x_{i}^{T}\\omega+\\omega _{0}))}{(1+exp(y_{i}(x_{i}^{T}\\omega +\\omega _{0})))^2}$\n",
    "\n",
    "$\\frac{\\partial^2 f}{\\partial \\omega^2} = \\frac{1}{n}\\sum_{i=1}^{n}\\frac{(y_{i}x_{i})^{2}exp(y_{i}(x_{i}^{T}\\omega+\\omega _{0}))}{(1+exp(y_{i}(x_{i}^{T}\\omega +\\omega _{0})))^2}$\n",
    "\n",
    "$\\frac{\\partial^2 f}{\\partial \\omega\\partial \\omega_{0}} = \\frac{1}{n}\\sum_{i=1}^{n}\\frac{y_{i}^{2}x_{i}exp(y_{i}(x_{i}^{T}\\omega+\\omega _{0}))}{(1+exp(y_{i}(x_{i}^{T}\\omega +\\omega _{0})))^2}$\n",
    "\n",
    "on obtient la matrice hessienne  :\n",
    "\n",
    "$H(\\omega_{0}, \\omega)= \\frac{1}{n}\\sum_{i=1}^{n}\\frac{y_{i}^{2}exp(y_{i}(x_{i}^{T}\\omega+\\omega _{0}))}{(1+exp(y_{i}(x_{i}^{T}\\omega +\\omega _{0})))^2}\\begin{pmatrix}\n",
    "1 &x_{i}^T \\\\ \n",
    "x_{i}^T &  x_{i}x_{i}^T\n",
    "\\end{pmatrix}\n",
    "+ \\rho \\begin{pmatrix}\n",
    "0&0 \\\\ \n",
    "0 &  I_{p}\n",
    "\\end{pmatrix}$\n",
    "\n",
    "Qestion 1.2\n",
    "==="
   ]
  },
  {
   "cell_type": "code",
   "execution_count": 2,
   "metadata": {
    "collapsed": true
   },
   "outputs": [],
   "source": [
    "def f1(w0, w, rho, X, y):\n",
    "    n = X.shape[0]\n",
    "    p = X.shape[1]\n",
    "    \n",
    "    #rajout d'une colonne de 1 à X et d'un 1 au début de w\n",
    "    X_extented = np.concatenate([np.ones((n, 1)), X], axis=1)\n",
    "    w_extended = np.concatenate([[w0], w])\n",
    "    \n",
    "    val = 0\n",
    "    grad = np.zeros(p+1)\n",
    "    H = np.zeros((p+1, p+1))\n",
    "    \n",
    "    #boucle correspondant à la somme sur i : \n",
    "    for i, xi in enumerate(X_extented):\n",
    "        ti = y[i] * xi@w_extended\n",
    "        val += 1/n * math.log(1 + math.exp(-ti))\n",
    "        exp_ti = math.exp(ti)\n",
    "        grad += -1/n * y[i]*xi / (1 + exp_ti)\n",
    "        \n",
    "        #afin que python voit xi_col comme une matrice colonne \n",
    "        #pour que @ effectue un produit matricielle et non terme à terme :\n",
    "        xi_col = xi.reshape((p+1, 1))\n",
    "        \n",
    "        H += 1/n * y[i]**2 * xi_col@xi_col.T * exp_ti/(1 + exp_ti)**2\n",
    "    \n",
    "    val += rho/2 * w@w\n",
    "    grad += np.concatenate([[0], w]) * rho\n",
    "    H += np.diag([0] + [rho] * p)\n",
    "    return val, grad, H"
   ]
  },
  {
   "cell_type": "markdown",
   "metadata": {},
   "source": [
    "Vérification du gradient :\n",
    "==="
   ]
  },
  {
   "cell_type": "code",
   "execution_count": 3,
   "metadata": {},
   "outputs": [
    {
     "name": "stdout",
     "output_type": "stream",
     "text": [
      "7.392407607510548e-07\n"
     ]
    }
   ],
   "source": [
    "X, y = load_diabetic_retinopathy(\"diabeticRetinopathy.csv\")\n",
    "n = X.shape[0]\n",
    "p = X.shape[1]\n",
    "rho = 1/n\n",
    "\n",
    "func = lambda w0_w : f1(w0_w[0], w0_w[1:], rho, X, y)[0]\n",
    "grad = lambda w0_w : f1(w0_w[0], w0_w[1:], rho, X, y)[1]\n",
    "hess = lambda w0_w : f1(w0_w[0], w0_w[1:], rho, X, y)[2]\n",
    "\n",
    "nb_tests = 10\n",
    "error_grad = 0\n",
    "for _ in range(nb_tests):\n",
    "    x0 = np.random.uniform(-1, 1, p+1)\n",
    "    error_grad += check_grad(func, grad, x0) / norm(grad(x0))\n",
    "print(error_grad/nb_tests)"
   ]
  },
  {
   "cell_type": "markdown",
   "metadata": {},
   "source": [
    "L'erreur est extrèmement faible, le calcul du gradient est valide.\n",
    "\n",
    "Vérification de la hessienne :\n",
    "===\n",
    "\n",
    "Une ligne de la hessienne correspond au gradient d'une cordonnée du gradient :\n",
    "\n",
    "$$ \\nabla ( (\\nabla f_1(\\omega_0, \\omega))_i ) = ( {H_i}_1, {H_i}_2, ..., {H_i}_p) $$ \n",
    "\n",
    "Cela nous permet de vérifier la hessienne ligne par ligne avec `check_grad`"
   ]
  },
  {
   "cell_type": "code",
   "execution_count": 4,
   "metadata": {},
   "outputs": [
    {
     "name": "stdout",
     "output_type": "stream",
     "text": [
      "2.5814961040799336e-07\n"
     ]
    }
   ],
   "source": [
    "nb_tests = 3\n",
    "error_hess = 0\n",
    "for _ in range(nb_tests):\n",
    "    x0 = x0 = np.random.uniform(-1, 1, p+1)\n",
    "    for i in range(p):\n",
    "        grad_i = lambda w0_w : grad(w0_w)[i]\n",
    "        hess_i = lambda w0_w : hess(w0_w)[i]\n",
    "        error_hess += check_grad(grad_i, hess_i, x0) / norm(hess_i(x0))\n",
    "print(error_hess/nb_tests/p)"
   ]
  },
  {
   "cell_type": "markdown",
   "metadata": {},
   "source": [
    "L'erreur est également très faible. Le calcul de la hessienne est valide.\n",
    "\n",
    "Question 1.3\n",
    "==="
   ]
  },
  {
   "cell_type": "code",
   "execution_count": 5,
   "metadata": {},
   "outputs": [
    {
     "name": "stdout",
     "output_type": "stream",
     "text": [
      "La valeur minimale approchée est 0.5300\n"
     ]
    },
    {
     "data": {
      "image/png": "[encoded data removed]",
      "text/plain": [
       "<matplotlib.figure.Figure at 0x286fcb1ef28>"
      ]
     },
     "metadata": {},
     "output_type": "display_data"
    }
   ],
   "source": [
    "def newtons_method(w0, w, rho, X, y, epsilon=10**-10, trace=False):\n",
    "    _, grad, hess = f1(w0, w, rho, X, y)\n",
    "    it = 0\n",
    "    norms = []\n",
    "    while(norm(grad) >= epsilon):\n",
    "        if(trace):\n",
    "            norms.append(norm(grad)) \n",
    "        delta = inv(hess) @ grad\n",
    "        w0 -= delta[0]\n",
    "        w -= delta[1:]\n",
    "        _, grad, hess = f1(w0, w, rho, X, y)\n",
    "        it += 1\n",
    "    if(trace):\n",
    "        norms.append(norm(grad))\n",
    "        plt.semilogy([k for k in range(it+1)] , norms)\n",
    "        plt.ylabel(\"Norme du gradient\")\n",
    "        plt.xlabel(\"Nb d'itérations\")\n",
    "        \n",
    "    return w0, w\n",
    "\n",
    "w0_star, w_star = newtons_method(0, np.zeros(p), rho, X, y, 10**-10, True)\n",
    "print(\"La valeur minimale approchée est %.4f\" % (f1(w0_star, w_star, rho, X, y)[0]))"
   ]
  },
  {
   "cell_type": "markdown",
   "metadata": {},
   "source": [
    "Question 1.4\n",
    "==="
   ]
  },
  {
   "cell_type": "code",
   "execution_count": 6,
   "metadata": {},
   "outputs": [
    {
     "name": "stdout",
     "output_type": "stream",
     "text": [
      "La méthode diverge, on obtient l'erreur python :\n",
      "(34, 'Result too large')\n"
     ]
    }
   ],
   "source": [
    "try:\n",
    "    newtons_method(0.3, 0.3 * np.ones(p), rho, X, y)\n",
    "except OverflowError as e:\n",
    "    print(\"La méthode diverge, on obtient l'erreur python :\")\n",
    "    print(e)"
   ]
  },
  {
   "cell_type": "markdown",
   "metadata": {},
   "source": [
    "##### Commentaire :\n",
    "\n",
    "Cela correspond à la situation décrite dans le cours : \"*Out of the region of quadratic convergence, Newton's method may diverge*\"\n",
    "\n",
    "Pour pallier à cela, on améliore la méthode avec une recherche linéaire.\n",
    "\n",
    "Question 1.5\n",
    "==="
   ]
  },
  {
   "cell_type": "code",
   "execution_count": 7,
   "metadata": {
    "collapsed": true
   },
   "outputs": [],
   "source": [
    "def armijo_line_search(f, grad, x, x_plus, a = 0.2, b = 1, beta = 0.001):\n",
    "    initial_val = f(x)\n",
    "    l = 0\n",
    "    x_l = x_plus(b * a**l)\n",
    "    while(f(x_l) - initial_val > beta * grad @ (x_l - x)):\n",
    "        l += 1\n",
    "        x_l = x_plus(b * a**l)\n",
    "    return x_l"
   ]
  },
  {
   "cell_type": "markdown",
   "metadata": {},
   "source": [
    "Les valeurs de $a$ et $\\beta$ sont des choix classiques pour la méthode d'Armijo. Et ces valeurs donnent de très bons résultats ici (cf graphique en dessous). Si cela n'avait pas était le cas, on aurait pu éventuellement procéder à un \"gird search\" ou autre pour trouver de bonnes valeurs pour ces paramètres.\n",
    "\n",
    "Le choix de $b$ s'impose logiquement : on ne souhaite pas faire de \"pas\" plus grand que pour la méthode de Newton normale puisque ce sont justement de trop grand pas qui amène la méthode à diverger."
   ]
  },
  {
   "cell_type": "code",
   "execution_count": 8,
   "metadata": {},
   "outputs": [
    {
     "name": "stdout",
     "output_type": "stream",
     "text": [
      "La valeur minimale approchée est 0.5300\n"
     ]
    },
    {
     "data": {
      "image/png": "[encoded data removed]",
      "text/plain": [
       "<matplotlib.figure.Figure at 0x28687af5f60>"
      ]
     },
     "metadata": {},
     "output_type": "display_data"
    }
   ],
   "source": [
    "def improved_newtons_method(w0, w, rho, X, y, epsilon=10**-10, trace=False):\n",
    "    _, grad, hess = f1(w0, w, rho, X, y)\n",
    "    it = 0\n",
    "    norms = []\n",
    "    f = lambda w_extended : f1(w_extended[0], w_extended[1:], rho, X, y)[0]\n",
    "    while(norm(grad) >= epsilon):\n",
    "        if(trace):\n",
    "            norms.append(norm(grad)) \n",
    "        tmp = inv(hess) @ grad\n",
    "        w_extended = np.concatenate([[w0], w])\n",
    "        w_plus = lambda gamma : w_extended - gamma * tmp\n",
    "        w_armijo = armijo_line_search(f, grad, w_extended, w_plus)\n",
    "        w0 = w_armijo[0]\n",
    "        w = w_armijo[1:]\n",
    "        _, grad, hess = f1(w0, w, rho, X, y)\n",
    "        it += 1\n",
    "    if(trace):\n",
    "        norms.append(norm(grad))\n",
    "        plt.semilogy([k for k in range(it+1)] , norms)\n",
    "        plt.ylabel(\"Norme du gradient\")\n",
    "        plt.xlabel(\"Nb d'itérations\")\n",
    "        \n",
    "    return w0, w \n",
    "\n",
    "w0_star, w_star = improved_newtons_method(0.3, 0.3 * np.ones(p), rho, X, y, 10**-12, True)\n",
    "print(\"La valeur minimale approchée est %.4f\" % (f1(w0_star, w_star, rho, X, y)[0]))"
   ]
  },
  {
   "cell_type": "code",
   "execution_count": 9,
   "metadata": {},
   "outputs": [
    {
     "name": "stdout",
     "output_type": "stream",
     "text": [
      " "
     ]
    },
    {
     "data": {
      "image/png": "[encoded data removed]",
      "text/plain": [
       "<matplotlib.figure.Figure at 0x28687b6e518>"
      ]
     },
     "metadata": {},
     "output_type": "display_data"
    }
   ],
   "source": [
    "%prun improved_newtons_method(0.3, 0.3 * np.ones(p), rho, X, y, 10**-12, True)"
   ]
  },
  {
   "cell_type": "markdown",
   "metadata": {},
   "source": [
    "Question 2.1\n",
    "===\n",
    "\n",
    "La présence de la norme 1 empèche de différencier l'expression. La méthode de Newton n'est donc pas appliquable.\n",
    "\n",
    "Question 2.2\n",
    "===\n",
    "$F_{2}  (\\omega_0, \\omega) = \\frac{1}{n}\\sum_{i=1}^{n}log(1+exp(-y_{i}(x_{i}^T\\omega +\\omega_{0}))) + \\rho \\left \\| \\omega \\right \\|\n",
    "_{1} = f_{2} (\\omega_0, \\omega) + g_{2} (\\omega)$\n",
    "\n",
    "\n",
    "avec $f_{2}  (\\omega_0, \\omega)= \\frac{1}{n}\\sum_{i=1}^{n}log(1+exp(-y_{i}(x_{i}^T\\omega +\\omega_{0})))$ et $g_{2}  (\\omega)= \\rho \\left \\| \\omega \\right \\|_{1} $\n",
    "\n",
    "D'après la question 1.1, le gradient de $f_{2}$ est:\n",
    "\n",
    "$\\triangledown f_{2} (\\omega_0, \\omega) = \\frac{1}{n}\\sum_{i=1}^{n}\\frac{-y_{i}}{1+exp(y_{i}(x_{i}^{T}\\omega +\\omega _{0}))}\\begin{pmatrix}\n",
    "1\\\\x_{i} \n",
    "\\end{pmatrix}$\n",
    "\n",
    "Question 2.3\n",
    "===\n",
    "\n",
    "On choisit la condition d'arrêt suivante : $\\|x_{k+1} - x_k\\|_1 < \\epsilon$"
   ]
  },
  {
   "cell_type": "code",
   "execution_count": 10,
   "metadata": {},
   "outputs": [
    {
     "data": {
      "image/png": "[encoded data removed]",
      "text/plain": [
       "<matplotlib.figure.Figure at 0x28687b75358>"
      ]
     },
     "metadata": {},
     "output_type": "display_data"
    }
   ],
   "source": [
    "def prox_abs(x, gamma):\n",
    "    if(x < -gamma):\n",
    "        return x + gamma\n",
    "    elif(x > gamma):\n",
    "        return x - gamma\n",
    "    else:\n",
    "        return 0.\n",
    "    \n",
    "prox_norm1 = lambda gamma : np.vectorize(lambda x : prox_abs(x, gamma)) \n",
    "\n",
    "def f2(w0, w, rho, X, y):\n",
    "    n = X.shape[0]\n",
    "    p = X.shape[1]\n",
    "    \n",
    "    #rajout d'une colonne de 1 à X et d'un 1 au début de w\n",
    "    X_extented = np.concatenate([np.ones((n, 1)), X], axis=1)\n",
    "    w_extended = np.concatenate([[w0], w])\n",
    "    \n",
    "    val = 0\n",
    "    grad = np.zeros(p+1)\n",
    "    \n",
    "    # somme sur i = 1 ... n : \n",
    "    for i, xi in enumerate(X_extented):\n",
    "        ti = y[i] * xi@w_extended\n",
    "        val += 1/n * math.log(1 + math.exp(-ti))\n",
    "        exp_ti = math.exp(ti)\n",
    "        grad += -1/n * y[i]*xi / (1 + exp_ti)\n",
    "\n",
    "    return val, grad\n",
    "\n",
    "def g2(w, rho):\n",
    "    return norm(w, ord=1)\n",
    "\n",
    "def F2(w0, w, rho, X, y):\n",
    "    return f2(w0, w, rho, X, y)[0] + g2[0]\n",
    "\n",
    "def proximal_gradient(w0_0, w_0, rho, X, y, epsilon=10**-5, trace=False):\n",
    "    w_extended = np.concatenate([[w0_0], w_0])\n",
    "    _, grad = f2(w0_0, w_0, rho, X, y)\n",
    "    it = 0\n",
    "    norms = []\n",
    "    w_last = w_extended + np.ones(w_extended.size) \n",
    "    f = lambda w_extended : f2(w_extended[0], w_extended[1:], rho, X, y)[0]\n",
    "    while(norm(w_extended - w_last, ord=1) >= epsilon):\n",
    "        if(trace):\n",
    "            norm(w_extended - w_last, ord=1)\n",
    "            norms.append(norm(w_extended - w_last, ord=1))\n",
    "        w_last = w_extended\n",
    "        w_plus = lambda gamma : prox_norm1(rho * gamma)(w_extended - gamma * grad)\n",
    "        w_extended = armijo_line_search(f, grad, w_extended, w_plus)\n",
    "        _, grad = f2(w_extended[0], w_extended[1:], rho, X, y)\n",
    "        it += 1\n",
    "    if(trace):\n",
    "        norms.append(norm(w_extended - w_last, ord=1))\n",
    "        plt.semilogy([k for k in range(it+1)] , norms)\n",
    "        plt.ylabel(\"Norme de (xk - xk+1)\")\n",
    "        plt.xlabel(\"Nb d'itérations\")\n",
    "    return w_extended[0], w_extended[1:]\n",
    "\n",
    "w0_start, w_star = proximal_gradient(0, 0 * np.ones(p), 0.1, X, y, 10**-5, True)"
   ]
  },
  {
   "cell_type": "markdown",
   "metadata": {},
   "source": [
    "Question 3.1\n",
    "===\n",
    "\n",
    "Les deux problèmes sont très similaires. La fonction objective soujacente commune est $f_2$. Cette fonction objective soujacente est pénalisée par la norme 2 pour le problème 1 et par la norme 1 pour le problème de la partie 2. \n",
    "\n",
    "Cela conduit à des comportements différents."
   ]
  },
  {
   "cell_type": "markdown",
   "metadata": {},
   "source": [
    "Question 3.2\n",
    "===\n",
    "\n",
    "#### Comparaisions des résultats pour $(\\omega_0^0, \\omega^0) = 0$ :"
   ]
  },
  {
   "cell_type": "code",
   "execution_count": 11,
   "metadata": {},
   "outputs": [
    {
     "data": {
      "image/png": "[encoded data removed]",
      "text/plain": [
       "<matplotlib.figure.Figure at 0x28687c2dc18>"
      ]
     },
     "metadata": {},
     "output_type": "display_data"
    }
   ],
   "source": [
    "f, (ax1, ax2) = plt.subplots(1, 2, figsize=(14, 5))\n",
    "\n",
    "plt.subplot(ax1)\n",
    "w0_star, w_star = newtons_method(0, np.zeros(p), rho, X, y, 10**-10)\n",
    "plt.bar(x=list(range(20)), height=np.concatenate([[w0_star], w_star]))\n",
    "plt.title(\"(w0, w) obtenu par la méthode de Newton\")\n",
    "\n",
    "plt.subplot(ax2)\n",
    "w0_star, w_star = proximal_gradient(0, 0 * np.ones(p), 0.1, X, y, 10**-5)\n",
    "plt.bar(x =list(range(20)) ,height= np.concatenate([[w0_star], w_star]))\n",
    "t = plt.title(\"(w0, w) obtenu par la méthode du gradient proximal\")"
   ]
  },
  {
   "cell_type": "markdown",
   "metadata": {},
   "source": [
    "La pénalisation $\\|.\\|_1$ donne une solution beaucoup plus \"simple\" (tout à zéro sauf une coordonnée). La forme de la solution est un peu préservée : la coordonné \"dominante\" est la même\n",
    "\n",
    "#### Comparaisions des résultats pour $(\\omega_0^0, \\omega^0) = 0.3e$ :\n",
    "\n",
    "Les $(\\widehat{\\omega_0},\\widehat{\\omega})$ trouvés sont dans ce cas très différent pour les 2 types de régularisations."
   ]
  },
  {
   "cell_type": "code",
   "execution_count": null,
   "metadata": {},
   "outputs": [
    {
     "data": {
      "image/png": "[encoded data removed]",
      "text/plain": [
       "<matplotlib.figure.Figure at 0x28687dde4a8>"
      ]
     },
     "metadata": {},
     "output_type": "display_data"
    }
   ],
   "source": [
    "f, (ax1, ax2) = plt.subplots(1, 2, figsize=(14, 5))\n",
    "\n",
    "plt.subplot(ax1)\n",
    "w0_star, w_star = improved_newtons_method(0.3, 0.3 * np.ones(p), rho, X, y, 10**-10)\n",
    "plt.bar(x=list(range(20)), height=np.concatenate([[w0_star], w_star]))\n",
    "plt.title(\"(w0, w) obtenu par la méthode de Newton\")\n",
    "\n",
    "plt.subplot(ax2)\n",
    "w0_star, w_star = proximal_gradient(0.3, 0.3 * np.ones(p), 0.1, X, y, 10**-5)\n",
    "plt.bar(x =list(range(20)) ,height= np.concatenate([[w0_star], w_star]))\n",
    "t = plt.title(\"(w0, w) obtenu par la méthode du gradient proximal\")"
   ]
  },
  {
   "cell_type": "markdown",
   "metadata": {},
   "source": [
    "Pour le fun : \n",
    "===\n",
    "#### Comparaisons des résulats en termes de prédictions face à la régression logistique de `sklearn`"
   ]
  },
  {
   "cell_type": "code",
   "execution_count": null,
   "metadata": {},
   "outputs": [
    {
     "name": "stdout",
     "output_type": "stream",
     "text": [
      "Méthode de Newton améliorée :\n",
      "Taux de prédictions fructueuses : 0.705\n",
      "\n",
      "Méthode du gradient proximal :\n",
      "Taux de prédictions fructueuses : 0.601\n",
      "\n",
      "Régression logistique (pénalisation norme 2) de scikit-learn :\n",
      "Taux de prédictions fructueuses : 0.754\n",
      "\n",
      "Régression logistique (pénalisation norme 1) de scikit-learn :\n"
     ]
    }
   ],
   "source": [
    "X_train, X_test, y_train, y_test = train_test_split(X, y, test_size=0.3, random_state=42)\n",
    "\n",
    "(X_test @ w_star + w0_star > 0).astype(int) * 2 - 1\n",
    "\n",
    "def my_score1(X_train, X_test, y_train, y_test):\n",
    "    w0_star, w_star = improved_newtons_method(0.3, 0.3 * np.ones(p), rho, X_train, y_train, 10**-8)\n",
    "    \n",
    "    return 1 - np.sum(abs((X_test @ w_star + w0_star > 0).astype(int) * 2 - 1 - y_test))/(2*y_test.size)\n",
    "\n",
    "print(\"Méthode de Newton améliorée :\")\n",
    "print(\"Taux de prédictions fructueuses : %.3f\" % my_score1(X_train, X_test, y_train, y_test))\n",
    "print()\n",
    "\n",
    "def my_score2(X_train, X_test, y_train, y_test):\n",
    "    w0_star, w_star = proximal_gradient(0.3, 0.3 * np.ones(p), 0.1, X, y, 10**-5)\n",
    "    \n",
    "    return 1 - np.sum(abs((X_test @ w_star + w0_star > 0).astype(int) * 2 - 1 - y_test))/(2*y_test.size)\n",
    "    \n",
    "print(\"Méthode du gradient proximal :\")\n",
    "print(\"Taux de prédictions fructueuses : %.3f\" % my_score2(X_train, X_test, y_train, y_test))\n",
    "print()\n",
    "\n",
    "def skl_score(X_train, X_test, y_train, y_test, penalty='l2', C=1/rho):\n",
    "    logistic = linear_model.LogisticRegression(penalty=penalty, tol=10**-8, C=C, fit_intercept=True)\n",
    "    logistic.fit(X_train, y_train)\n",
    "    return 1 - np.sum(abs((logistic.predict(X_test) - y_test)))/(2*y_test.size)\n",
    "\n",
    "print(\"Régression logistique (pénalisation norme 2) de scikit-learn :\")\n",
    "print(\"Taux de prédictions fructueuses : %.3f\" % skl_score(X_train, X_test, y_train, y_test))\n",
    "print()\n",
    "\n",
    "print(\"Régression logistique (pénalisation norme 1) de scikit-learn :\")\n",
    "print(\"Taux de prédictions fructueuses : %.3f\" % skl_score(X_train, X_test, y_train, y_test, 'l1', 10))"
   ]
  },
  {
   "cell_type": "markdown",
   "metadata": {},
   "source": [
    "### Conclusion :\n",
    "Scikit-learn est meilleur, il serait intéressant de déterminer quels sont les facteurs qui mène à ces différences de performances.\n",
    "\n",
    "\n",
    "Une erreur de calcul ou d'implémentation a probablement été commise pour la méthode du gradient proximal."
   ]
  }
 ],
 "metadata": {
  "kernelspec": {
   "display_name": "Python 3",
   "language": "python",
   "name": "python3"
  },
  "language_info": {
   "codemirror_mode": {
    "name": "ipython",
    "version": 3
   },
   "file_extension": ".py",
   "mimetype": "text/x-python",
   "name": "python",
   "nbconvert_exporter": "python",
   "pygments_lexer": "ipython3",
   "version": "3.6.3"
  }
 },
 "nbformat": 4,
 "nbformat_minor": 2
}
